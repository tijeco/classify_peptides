{
 "cells": [
  {
   "cell_type": "markdown",
   "metadata": {},
   "source": [
    "# **Predicting Activity of Short Antimicrobial Peptides**\n",
    "\n",
    "Jupyter notebook by [Chanin Nantasenamat](https://medium.com/@chanin.nantasenamat) (aka [Data Professor](http://youtube.com/dataprofessor)\n",
    "\n",
    "Dataset:\n",
    "[Paper](https://www.cell.com/molecular-therapy-family/nucleic-acids/fulltext/S2162-2531(20)30132-3) | [Dataset](https://cbbio.online/AxPEP/?action=dataset)"
   ]
  },
  {
   "cell_type": "markdown",
   "metadata": {},
   "source": [
    "# **Install conda**"
   ]
  },
  {
   "cell_type": "code",
   "execution_count": null,
   "metadata": {},
   "outputs": [
    {
     "name": "stdout",
     "output_type": "stream",
     "text": [
      "--2021-03-06 23:50:17--  https://repo.anaconda.com/miniconda/Miniconda3-py37_4.8.2-Linux-x86_64.sh\n",
      "Resolving repo.anaconda.com (repo.anaconda.com)... 104.16.131.3, 104.16.130.3, 2606:4700::6810:8303, ...\n",
      "Connecting to repo.anaconda.com (repo.anaconda.com)|104.16.131.3|:443... connected.\n",
      "HTTP request sent, awaiting response... 200 OK\n",
      "Length: 85055499 (81M) [application/x-sh]\n",
      "Saving to: ‘Miniconda3-py37_4.8.2-Linux-x86_64.sh’\n",
      "\n",
      "Miniconda3-py37_4.8 100%[===================>]  81.12M   148MB/s    in 0.5s    \n",
      "\n",
      "2021-03-06 23:50:18 (148 MB/s) - ‘Miniconda3-py37_4.8.2-Linux-x86_64.sh’ saved [85055499/85055499]\n",
      "\n",
      "PREFIX=/usr/local\n",
      "Unpacking payload ...\n",
      "Collecting package metadata (current_repodata.json): - \b\b\\ \b\b| \b\bdone\n",
      "Solving environment: - \b\b\\ \b\bdone\n",
      "\n",
      "## Package Plan ##\n",
      "\n",
      "  environment location: /usr/local\n",
      "\n",
      "  added / updated specs:\n",
      "    - _libgcc_mutex==0.1=main\n",
      "    - asn1crypto==1.3.0=py37_0\n",
      "    - ca-certificates==2020.1.1=0\n",
      "    - certifi==2019.11.28=py37_0\n",
      "    - cffi==1.14.0=py37h2e261b9_0\n",
      "    - chardet==3.0.4=py37_1003\n",
      "    - conda-package-handling==1.6.0=py37h7b6447c_0\n",
      "    - conda==4.8.2=py37_0\n",
      "    - cryptography==2.8=py37h1ba5d50_0\n",
      "    - idna==2.8=py37_0\n",
      "    - ld_impl_linux-64==2.33.1=h53a641e_7\n",
      "    - libedit==3.1.20181209=hc058e9b_0\n",
      "    - libffi==3.2.1=hd88cf55_4\n",
      "    - libgcc-ng==9.1.0=hdf63c60_0\n",
      "    - libstdcxx-ng==9.1.0=hdf63c60_0\n",
      "    - ncurses==6.2=he6710b0_0\n",
      "    - openssl==1.1.1d=h7b6447c_4\n",
      "    - pip==20.0.2=py37_1\n",
      "    - pycosat==0.6.3=py37h7b6447c_0\n",
      "    - pycparser==2.19=py37_0\n",
      "    - pyopenssl==19.1.0=py37_0\n",
      "    - pysocks==1.7.1=py37_0\n",
      "    - python==3.7.6=h0371630_2\n",
      "    - readline==7.0=h7b6447c_5\n",
      "    - requests==2.22.0=py37_1\n",
      "    - ruamel_yaml==0.15.87=py37h7b6447c_0\n",
      "    - setuptools==45.2.0=py37_0\n",
      "    - six==1.14.0=py37_0\n",
      "    - sqlite==3.31.1=h7b6447c_0\n",
      "    - tk==8.6.8=hbc83047_0\n",
      "    - tqdm==4.42.1=py_0\n",
      "    - urllib3==1.25.8=py37_0\n",
      "    - wheel==0.34.2=py37_0\n",
      "    - xz==5.2.4=h14c3975_4\n",
      "    - yaml==0.1.7=had09818_2\n",
      "    - zlib==1.2.11=h7b6447c_3\n",
      "\n",
      "\n",
      "The following NEW packages will be INSTALLED:\n",
      "\n",
      "  _libgcc_mutex      pkgs/main/linux-64::_libgcc_mutex-0.1-main\n",
      "  asn1crypto         pkgs/main/linux-64::asn1crypto-1.3.0-py37_0\n",
      "  ca-certificates    pkgs/main/linux-64::ca-certificates-2020.1.1-0\n",
      "  certifi            pkgs/main/linux-64::certifi-2019.11.28-py37_0\n",
      "  cffi               pkgs/main/linux-64::cffi-1.14.0-py37h2e261b9_0\n",
      "  chardet            pkgs/main/linux-64::chardet-3.0.4-py37_1003\n",
      "  conda              pkgs/main/linux-64::conda-4.8.2-py37_0\n",
      "  conda-package-han~ pkgs/main/linux-64::conda-package-handling-1.6.0-py37h7b6447c_0\n",
      "  cryptography       pkgs/main/linux-64::cryptography-2.8-py37h1ba5d50_0\n",
      "  idna               pkgs/main/linux-64::idna-2.8-py37_0\n",
      "  ld_impl_linux-64   pkgs/main/linux-64::ld_impl_linux-64-2.33.1-h53a641e_7\n",
      "  libedit            pkgs/main/linux-64::libedit-3.1.20181209-hc058e9b_0\n",
      "  libffi             pkgs/main/linux-64::libffi-3.2.1-hd88cf55_4\n",
      "  libgcc-ng          pkgs/main/linux-64::libgcc-ng-9.1.0-hdf63c60_0\n",
      "  libstdcxx-ng       pkgs/main/linux-64::libstdcxx-ng-9.1.0-hdf63c60_0\n",
      "  ncurses            pkgs/main/linux-64::ncurses-6.2-he6710b0_0\n",
      "  openssl            pkgs/main/linux-64::openssl-1.1.1d-h7b6447c_4\n",
      "  pip                pkgs/main/linux-64::pip-20.0.2-py37_1\n",
      "  pycosat            pkgs/main/linux-64::pycosat-0.6.3-py37h7b6447c_0\n",
      "  pycparser          pkgs/main/linux-64::pycparser-2.19-py37_0\n",
      "  pyopenssl          pkgs/main/linux-64::pyopenssl-19.1.0-py37_0\n",
      "  pysocks            pkgs/main/linux-64::pysocks-1.7.1-py37_0\n",
      "  python             pkgs/main/linux-64::python-3.7.6-h0371630_2\n",
      "  readline           pkgs/main/linux-64::readline-7.0-h7b6447c_5\n",
      "  requests           pkgs/main/linux-64::requests-2.22.0-py37_1\n",
      "  ruamel_yaml        pkgs/main/linux-64::ruamel_yaml-0.15.87-py37h7b6447c_0\n",
      "  setuptools         pkgs/main/linux-64::setuptools-45.2.0-py37_0\n",
      "  six                pkgs/main/linux-64::six-1.14.0-py37_0\n",
      "  sqlite             pkgs/main/linux-64::sqlite-3.31.1-h7b6447c_0\n",
      "  tk                 pkgs/main/linux-64::tk-8.6.8-hbc83047_0\n",
      "  tqdm               pkgs/main/noarch::tqdm-4.42.1-py_0\n",
      "  urllib3            pkgs/main/linux-64::urllib3-1.25.8-py37_0\n",
      "  wheel              pkgs/main/linux-64::wheel-0.34.2-py37_0\n",
      "  xz                 pkgs/main/linux-64::xz-5.2.4-h14c3975_4\n",
      "  yaml               pkgs/main/linux-64::yaml-0.1.7-had09818_2\n",
      "  zlib               pkgs/main/linux-64::zlib-1.2.11-h7b6447c_3\n",
      "\n",
      "\n",
      "Preparing transaction: / \b\b- \b\b\\ \b\b| \b\bdone\n",
      "Executing transaction: - \b\b\\ \b\b| \b\b/ \b\b- \b\b\\ \b\b| \b\b/ \b\b- \b\b\\ \b\b| \b\b/ \b\b- \b\b\\ \b\b| \b\b/ \b\bdone\n",
      "installation finished.\n",
      "WARNING:\n",
      "    You currently have a PYTHONPATH environment variable set. This may cause\n",
      "    unexpected behavior when running the Python interpreter in Miniconda3.\n",
      "    For best results, please verify that your PYTHONPATH only points to\n",
      "    directories of packages that are compatible with the Python interpreter\n",
      "    in Miniconda3: /usr/local\n"
     ]
    }
   ],
   "source": [
    "################################################################################\n",
    "# INSTALL CONDA ON GOOGLE COLAB\n",
    "################################################################################\n",
    "! wget https://repo.anaconda.com/miniconda/Miniconda3-py37_4.8.2-Linux-x86_64.sh\n",
    "! chmod +x Miniconda3-py37_4.8.2-Linux-x86_64.sh\n",
    "! bash ./Miniconda3-py37_4.8.2-Linux-x86_64.sh -b -f -p /usr/local\n",
    "import sys\n",
    "sys.path.append('/usr/local/lib/python3.7/site-packages/')"
   ]
  },
  {
   "cell_type": "markdown",
   "metadata": {},
   "source": [
    "# **Download and Install Pfeature**"
   ]
  },
  {
   "cell_type": "code",
   "execution_count": null,
   "metadata": {},
   "outputs": [
    {
     "name": "stdout",
     "output_type": "stream",
     "text": [
      "--2021-03-06 23:51:17--  https://github.com/raghavagps/Pfeature/raw/master/PyLib/Pfeature.zip\n",
      "Resolving github.com (github.com)... 13.114.40.48\n",
      "Connecting to github.com (github.com)|13.114.40.48|:443... connected.\n",
      "HTTP request sent, awaiting response... 302 Found\n",
      "Location: https://raw.githubusercontent.com/raghavagps/Pfeature/master/PyLib/Pfeature.zip [following]\n",
      "--2021-03-06 23:51:18--  https://raw.githubusercontent.com/raghavagps/Pfeature/master/PyLib/Pfeature.zip\n",
      "Resolving raw.githubusercontent.com (raw.githubusercontent.com)... 185.199.110.133, 185.199.108.133, 185.199.111.133, ...\n",
      "Connecting to raw.githubusercontent.com (raw.githubusercontent.com)|185.199.110.133|:443... connected.\n",
      "HTTP request sent, awaiting response... 200 OK\n",
      "Length: 511222 (499K) [application/zip]\n",
      "Saving to: ‘Pfeature.zip’\n",
      "\n",
      "Pfeature.zip        100%[===================>] 499.24K  --.-KB/s    in 0.05s   \n",
      "\n",
      "2021-03-06 23:51:19 (9.78 MB/s) - ‘Pfeature.zip’ saved [511222/511222]\n",
      "\n"
     ]
    }
   ],
   "source": [
    "! wget https://github.com/raghavagps/Pfeature/raw/master/PyLib/Pfeature.zip"
   ]
  },
  {
   "cell_type": "code",
   "execution_count": null,
   "metadata": {},
   "outputs": [
    {
     "name": "stdout",
     "output_type": "stream",
     "text": [
      "Archive:  Pfeature.zip\n",
      "   creating: Pfeature/\n",
      "  inflating: __MACOSX/._Pfeature     \n",
      "  inflating: Pfeature/PKG-INFO       \n",
      "  inflating: __MACOSX/Pfeature/._PKG-INFO  \n",
      "  inflating: Pfeature/.DS_Store      \n",
      "  inflating: __MACOSX/Pfeature/._.DS_Store  \n",
      "  inflating: Pfeature/README         \n",
      "  inflating: __MACOSX/Pfeature/._README  \n",
      "  inflating: Pfeature/setup.py       \n",
      "  inflating: __MACOSX/Pfeature/._setup.py  \n",
      "  inflating: Pfeature/Functions_Tables.pdf  \n",
      "  inflating: __MACOSX/Pfeature/._Functions_Tables.pdf  \n",
      "   creating: Pfeature/build/\n",
      "  inflating: __MACOSX/Pfeature/._build  \n",
      "  inflating: Pfeature/Pfeature_Descriptors.pdf  \n",
      "  inflating: __MACOSX/Pfeature/._Pfeature_Descriptors.pdf  \n",
      "   creating: Pfeature/Pfeature/\n",
      "  inflating: __MACOSX/Pfeature/._Pfeature  \n",
      "   creating: Pfeature/build/lib/\n",
      "  inflating: __MACOSX/Pfeature/build/._lib  \n",
      "  inflating: Pfeature/Pfeature/bonds.csv  \n",
      "  inflating: Pfeature/Pfeature/pfeature.py  \n",
      "  inflating: Pfeature/Pfeature/AAIndexNames.csv  \n",
      "  inflating: Pfeature/Pfeature/aaindices.csv  \n",
      "  inflating: Pfeature/Pfeature/atom.csv  \n",
      "  inflating: Pfeature/Pfeature/PhysicoChemical.csv  \n",
      "  inflating: Pfeature/Pfeature/__init__.py  \n",
      "  inflating: __MACOSX/Pfeature/Pfeature/.___init__.py  \n",
      "  inflating: Pfeature/Pfeature/z_aaindex.csv  \n",
      "  inflating: Pfeature/Pfeature/aaindex.csv  \n",
      "  inflating: Pfeature/Pfeature/bin_di.csv  \n",
      "  inflating: Pfeature/Pfeature/Grantham.csv  \n",
      "  inflating: Pfeature/Pfeature/can_pat.csv  \n",
      "  inflating: Pfeature/Pfeature/aa_attr_group.csv  \n",
      "  inflating: Pfeature/Pfeature/Schneider-Wrede.csv  \n",
      "  inflating: Pfeature/Pfeature/data  \n",
      "  inflating: Pfeature/Pfeature/aaind.txt  \n",
      "   creating: Pfeature/build/lib/Pfeature/\n",
      "  inflating: Pfeature/build/lib/Pfeature/bonds.csv  \n",
      "  inflating: Pfeature/build/lib/Pfeature/pfeature.py  \n",
      "  inflating: Pfeature/build/lib/Pfeature/AAIndexNames.csv  \n",
      "  inflating: Pfeature/build/lib/Pfeature/aaindices.csv  \n",
      "  inflating: Pfeature/build/lib/Pfeature/atom.csv  \n",
      "  inflating: Pfeature/build/lib/Pfeature/PhysicoChemical.csv  \n",
      "  inflating: Pfeature/build/lib/Pfeature/__init__.py  \n",
      "  inflating: __MACOSX/Pfeature/build/lib/Pfeature/.___init__.py  \n",
      "  inflating: Pfeature/build/lib/Pfeature/z_aaindex.csv  \n",
      "  inflating: Pfeature/build/lib/Pfeature/aaindex.csv  \n",
      "  inflating: Pfeature/build/lib/Pfeature/bin_di.csv  \n",
      "  inflating: Pfeature/build/lib/Pfeature/Grantham.csv  \n",
      "  inflating: Pfeature/build/lib/Pfeature/can_pat.csv  \n",
      "  inflating: Pfeature/build/lib/Pfeature/aa_attr_group.csv  \n",
      "  inflating: Pfeature/build/lib/Pfeature/Schneider-Wrede.csv  \n",
      "  inflating: Pfeature/build/lib/Pfeature/data  \n",
      "  inflating: Pfeature/build/lib/Pfeature/aaind.txt  \n"
     ]
    }
   ],
   "source": [
    "! unzip Pfeature.zip"
   ]
  },
  {
   "cell_type": "code",
   "execution_count": null,
   "metadata": {},
   "outputs": [
    {
     "name": "stdout",
     "output_type": "stream",
     "text": [
      "/content/Pfeature\n"
     ]
    }
   ],
   "source": [
    "% cd Pfeature"
   ]
  },
  {
   "cell_type": "code",
   "execution_count": null,
   "metadata": {},
   "outputs": [
    {
     "name": "stdout",
     "output_type": "stream",
     "text": [
      "\u001b[0m\u001b[01;34m__MACOSX\u001b[0m/                               train_ne_cdhit.txt.clstr\n",
      "\u001b[01;32mMiniconda3-py37_4.8.2-Linux-x86_64.sh\u001b[0m*  train_ne.fasta\n",
      "\u001b[01;34mPfeature\u001b[0m/                               train_po_cdhit.txt\n",
      "Pfeature.zip                            train_po_cdhit.txt.clstr\n",
      "\u001b[01;34msample_data\u001b[0m/                            train_po.fasta\n",
      "train_ne_cdhit.txt\n"
     ]
    }
   ],
   "source": [
    "% ls\n"
   ]
  },
  {
   "cell_type": "code",
   "execution_count": null,
   "metadata": {},
   "outputs": [
    {
     "name": "stdout",
     "output_type": "stream",
     "text": [
      "/usr/local/lib/python3.7/distutils/dist.py:274: UserWarning: Unknown distribution option: 'zip_safe'\n",
      "  warnings.warn(msg)\n",
      "running install\n",
      "running build\n",
      "running build_py\n",
      "copying Pfeature/pfeature.py -> build/lib/Pfeature\n",
      "copying Pfeature/__init__.py -> build/lib/Pfeature\n",
      "running install_lib\n",
      "creating /usr/local/lib/python3.7/site-packages/Pfeature\n",
      "copying build/lib/Pfeature/aa_attr_group.csv -> /usr/local/lib/python3.7/site-packages/Pfeature\n",
      "copying build/lib/Pfeature/can_pat.csv -> /usr/local/lib/python3.7/site-packages/Pfeature\n",
      "copying build/lib/Pfeature/aaindices.csv -> /usr/local/lib/python3.7/site-packages/Pfeature\n",
      "copying build/lib/Pfeature/atom.csv -> /usr/local/lib/python3.7/site-packages/Pfeature\n",
      "copying build/lib/Pfeature/bin_di.csv -> /usr/local/lib/python3.7/site-packages/Pfeature\n",
      "copying build/lib/Pfeature/z_aaindex.csv -> /usr/local/lib/python3.7/site-packages/Pfeature\n",
      "copying build/lib/Pfeature/pfeature.py -> /usr/local/lib/python3.7/site-packages/Pfeature\n",
      "copying build/lib/Pfeature/Grantham.csv -> /usr/local/lib/python3.7/site-packages/Pfeature\n",
      "copying build/lib/Pfeature/AAIndexNames.csv -> /usr/local/lib/python3.7/site-packages/Pfeature\n",
      "copying build/lib/Pfeature/aaind.txt -> /usr/local/lib/python3.7/site-packages/Pfeature\n",
      "copying build/lib/Pfeature/PhysicoChemical.csv -> /usr/local/lib/python3.7/site-packages/Pfeature\n",
      "copying build/lib/Pfeature/Schneider-Wrede.csv -> /usr/local/lib/python3.7/site-packages/Pfeature\n",
      "copying build/lib/Pfeature/data -> /usr/local/lib/python3.7/site-packages/Pfeature\n",
      "copying build/lib/Pfeature/__init__.py -> /usr/local/lib/python3.7/site-packages/Pfeature\n",
      "copying build/lib/Pfeature/aaindex.csv -> /usr/local/lib/python3.7/site-packages/Pfeature\n",
      "copying build/lib/Pfeature/bonds.csv -> /usr/local/lib/python3.7/site-packages/Pfeature\n",
      "byte-compiling /usr/local/lib/python3.7/site-packages/Pfeature/pfeature.py to pfeature.cpython-37.pyc\n",
      "byte-compiling /usr/local/lib/python3.7/site-packages/Pfeature/__init__.py to __init__.cpython-37.pyc\n",
      "running install_egg_info\n",
      "Writing /usr/local/lib/python3.7/site-packages/Pfeature-1.0-py3.7.egg-info\n"
     ]
    }
   ],
   "source": [
    "! python setup.py install"
   ]
  },
  {
   "cell_type": "markdown",
   "metadata": {},
   "source": [
    "# **Install CD-HIT**"
   ]
  },
  {
   "cell_type": "code",
   "execution_count": null,
   "metadata": {},
   "outputs": [
    {
     "name": "stdout",
     "output_type": "stream",
     "text": [
      "Collecting package metadata (current_repodata.json): - \b\b\\ \b\b| \b\b/ \b\b- \b\b\\ \b\b| \b\b/ \b\b- \b\b\\ \b\b| \b\b/ \b\b- \b\b\\ \b\b| \b\b/ \b\b- \b\b\\ \b\b| \b\b/ \b\b- \b\b\\ \b\b| \b\b/ \b\b- \b\b\\ \b\b| \b\b/ \b\b- \b\b\\ \b\b| \b\b/ \b\b- \b\b\\ \b\bdone\n",
      "Solving environment: / \b\b- \b\b\\ \b\bdone\n",
      "\n",
      "## Package Plan ##\n",
      "\n",
      "  environment location: /usr/local\n",
      "\n",
      "  added / updated specs:\n",
      "    - cd-hit\n",
      "\n",
      "\n",
      "The following packages will be downloaded:\n",
      "\n",
      "    package                    |            build\n",
      "    ---------------------------|-----------------\n",
      "    ca-certificates-2021.1.19  |       h06a4308_0         121 KB\n",
      "    cd-hit-4.8.1               |       hdbcaa40_0         221 KB  bioconda\n",
      "    certifi-2020.12.5          |   py37h06a4308_0         141 KB\n",
      "    conda-4.9.2                |   py37h06a4308_0         2.9 MB\n",
      "    openssl-1.1.1j             |       h27cfd23_0         2.5 MB\n",
      "    ------------------------------------------------------------\n",
      "                                           Total:         5.9 MB\n",
      "\n",
      "The following NEW packages will be INSTALLED:\n",
      "\n",
      "  cd-hit             bioconda/linux-64::cd-hit-4.8.1-hdbcaa40_0\n",
      "\n",
      "The following packages will be UPDATED:\n",
      "\n",
      "  ca-certificates                                2020.1.1-0 --> 2021.1.19-h06a4308_0\n",
      "  certifi                                 2019.11.28-py37_0 --> 2020.12.5-py37h06a4308_0\n",
      "  conda                                        4.8.2-py37_0 --> 4.9.2-py37h06a4308_0\n",
      "  openssl                                 1.1.1d-h7b6447c_4 --> 1.1.1j-h27cfd23_0\n",
      "\n",
      "\n",
      "\n",
      "Downloading and Extracting Packages\n",
      "openssl-1.1.1j       | 2.5 MB    | : 100% 1.0/1 [00:00<00:00,  5.74it/s]\n",
      "conda-4.9.2          | 2.9 MB    | : 100% 1.0/1 [00:00<00:00,  6.54it/s]\n",
      "certifi-2020.12.5    | 141 KB    | : 100% 1.0/1 [00:00<00:00, 19.98it/s]\n",
      "cd-hit-4.8.1         | 221 KB    | : 100% 1.0/1 [00:00<00:00,  1.78it/s]                \n",
      "ca-certificates-2021 | 121 KB    | : 100% 1.0/1 [00:00<00:00, 23.01it/s]\n",
      "Preparing transaction: / \b\bdone\n",
      "Verifying transaction: \\ \b\b| \b\bdone\n",
      "Executing transaction: - \b\bdone\n"
     ]
    }
   ],
   "source": [
    "! conda install -c bioconda cd-hit -y"
   ]
  },
  {
   "cell_type": "markdown",
   "metadata": {},
   "source": [
    "# **Load peptide dataset**"
   ]
  },
  {
   "cell_type": "code",
   "execution_count": null,
   "metadata": {},
   "outputs": [
    {
     "name": "stdout",
     "output_type": "stream",
     "text": [
      "--2021-03-06 23:52:05--  https://raw.githubusercontent.com/dataprofessor/AMP/main/train_po.fasta\n",
      "Resolving raw.githubusercontent.com (raw.githubusercontent.com)... 185.199.109.133, 185.199.110.133, 185.199.111.133, ...\n",
      "Connecting to raw.githubusercontent.com (raw.githubusercontent.com)|185.199.109.133|:443... connected.\n",
      "HTTP request sent, awaiting response... 200 OK\n",
      "Length: 52619 (51K) [text/plain]\n",
      "Saving to: ‘train_po.fasta’\n",
      "\n",
      "train_po.fasta      100%[===================>]  51.39K  --.-KB/s    in 0.01s   \n",
      "\n",
      "2021-03-06 23:52:06 (4.08 MB/s) - ‘train_po.fasta’ saved [52619/52619]\n",
      "\n"
     ]
    }
   ],
   "source": [
    "! wget https://raw.githubusercontent.com/dataprofessor/AMP/main/train_po.fasta"
   ]
  },
  {
   "cell_type": "code",
   "execution_count": null,
   "metadata": {},
   "outputs": [
    {
     "name": "stdout",
     "output_type": "stream",
     "text": [
      "--2021-03-06 23:52:09--  https://raw.githubusercontent.com/dataprofessor/AMP/main/train_ne.fasta\n",
      "Resolving raw.githubusercontent.com (raw.githubusercontent.com)... 185.199.108.133, 185.199.109.133, 185.199.110.133, ...\n",
      "Connecting to raw.githubusercontent.com (raw.githubusercontent.com)|185.199.108.133|:443... connected.\n",
      "HTTP request sent, awaiting response... 200 OK\n",
      "Length: 57206 (56K) [text/plain]\n",
      "Saving to: ‘train_ne.fasta’\n",
      "\n",
      "train_ne.fasta      100%[===================>]  55.87K  --.-KB/s    in 0.01s   \n",
      "\n",
      "2021-03-06 23:52:09 (4.33 MB/s) - ‘train_ne.fasta’ saved [57206/57206]\n",
      "\n"
     ]
    }
   ],
   "source": [
    "! wget https://raw.githubusercontent.com/dataprofessor/AMP/main/train_ne.fasta"
   ]
  },
  {
   "cell_type": "markdown",
   "metadata": {},
   "source": [
    "# **Remove redundant sequences using CD-HIT**"
   ]
  },
  {
   "cell_type": "code",
   "execution_count": null,
   "metadata": {},
   "outputs": [
    {
     "name": "stdout",
     "output_type": "stream",
     "text": [
      "================================================================\n",
      "Program: CD-HIT, V4.8.1, Mar 01 2019, 14:14:47\n",
      "Command: cd-hit -i train_po.fasta -o train_po_cdhit.txt -c\n",
      "         0.99\n",
      "\n",
      "Started: Sat Mar  6 23:52:12 2021\n",
      "================================================================\n",
      "                            Output                              \n",
      "----------------------------------------------------------------\n",
      "total seq: 1445\n",
      "longest and shortest : 30 and 11\n",
      "Total letters: 30071\n",
      "Sequences have been sorted\n",
      "\n",
      "Approximated minimal memory consumption:\n",
      "Sequence        : 0M\n",
      "Buffer          : 1 X 10M = 10M\n",
      "Table           : 1 X 65M = 65M\n",
      "Miscellaneous   : 0M\n",
      "Total           : 76M\n",
      "\n",
      "Table limit with the given memory limit:\n",
      "Max number of representatives: 4000000\n",
      "Max number of word counting entries: 90485873\n",
      "\n",
      "\rcomparing sequences from          0  to       1445\n",
      ".\n",
      "     1445  finished       1337  clusters\n",
      "\n",
      "Approximated maximum memory consumption: 76M\n",
      "writing new database\n",
      "writing clustering information\n",
      "program completed !\n",
      "\n",
      "Total CPU time 0.07\n"
     ]
    }
   ],
   "source": [
    "! cd-hit -i train_po.fasta -o train_po_cdhit.txt -c 0.99"
   ]
  },
  {
   "cell_type": "code",
   "execution_count": null,
   "metadata": {},
   "outputs": [
    {
     "name": "stdout",
     "output_type": "stream",
     "text": [
      "================================================================\n",
      "Program: CD-HIT, V4.8.1, Mar 01 2019, 14:14:47\n",
      "Command: cd-hit -i train_ne.fasta -o train_ne_cdhit.txt -c\n",
      "         0.99\n",
      "\n",
      "Started: Sat Mar  6 23:52:17 2021\n",
      "================================================================\n",
      "                            Output                              \n",
      "----------------------------------------------------------------\n",
      "total seq: 1445\n",
      "longest and shortest : 30 and 11\n",
      "Total letters: 30071\n",
      "Sequences have been sorted\n",
      "\n",
      "Approximated minimal memory consumption:\n",
      "Sequence        : 0M\n",
      "Buffer          : 1 X 10M = 10M\n",
      "Table           : 1 X 65M = 65M\n",
      "Miscellaneous   : 0M\n",
      "Total           : 76M\n",
      "\n",
      "Table limit with the given memory limit:\n",
      "Max number of representatives: 4000000\n",
      "Max number of word counting entries: 90485331\n",
      "\n",
      "\rcomparing sequences from          0  to       1445\n",
      ".\n",
      "     1445  finished       1422  clusters\n",
      "\n",
      "Approximated maximum memory consumption: 76M\n",
      "writing new database\n",
      "writing clustering information\n",
      "program completed !\n",
      "\n",
      "Total CPU time 0.07\n"
     ]
    }
   ],
   "source": [
    "! cd-hit -i train_ne.fasta -o train_ne_cdhit.txt -c 0.99"
   ]
  },
  {
   "cell_type": "code",
   "execution_count": null,
   "metadata": {},
   "outputs": [
    {
     "name": "stdout",
     "output_type": "stream",
     "text": [
      "1337\n"
     ]
    }
   ],
   "source": [
    "! grep \">\" train_po_cdhit.txt | wc -l"
   ]
  },
  {
   "cell_type": "code",
   "execution_count": null,
   "metadata": {},
   "outputs": [
    {
     "name": "stdout",
     "output_type": "stream",
     "text": [
      "1529\n"
     ]
    }
   ],
   "source": [
    "! grep \">\" train_po.fasta | wc -l"
   ]
  },
  {
   "cell_type": "code",
   "execution_count": null,
   "metadata": {},
   "outputs": [
    {
     "name": "stdout",
     "output_type": "stream",
     "text": [
      "1529\n"
     ]
    }
   ],
   "source": [
    "! grep \">\" train_ne.fasta | wc -l"
   ]
  },
  {
   "cell_type": "code",
   "execution_count": null,
   "metadata": {},
   "outputs": [
    {
     "name": "stdout",
     "output_type": "stream",
     "text": [
      "1422\n"
     ]
    }
   ],
   "source": [
    "! grep \">\" train_ne_cdhit.txt | wc -l"
   ]
  },
  {
   "cell_type": "markdown",
   "metadata": {},
   "source": [
    "# **Calculate features using the Pfeature library**\n",
    "\n",
    "Feature classes provided by Pfeature is summarized in the tables below.\n",
    "\n",
    "**Composition Based Features**\n",
    "\n",
    "Feature claass | Description | Function\n",
    "---|---|---\n",
    "AAC | Amino acid composition | aac_wp\n",
    "DPC | Dipeptide composition | dpc_wp\n",
    "TPC | Tripeptide composition | tpc_wp\n",
    "ABC | Atom and bond composition | atc_wp, btc_wp\n",
    "PCP | Physico-chemical properties | pcp_wp\n",
    "AAI | Amino acid index composition | aai_wp\n",
    "RRI | Repetitive Residue Information | rri_wp\n",
    "DDR | Distance distribution of residues |ddr_wp\n",
    "PRI | Physico-chemical properties repeat composition | pri_wp\n",
    "SEP | Shannon entropy | sep_wp\n",
    "SER | Shannon entropy of residue level | ser_wp\n",
    "SPC | Shannon entropy of physicochemical property | spc_wp\n",
    "ACR | Autocorrelation | acr_wp\n",
    "CTC | Conjoint Triad Calculation | ctc_wp\n",
    "CTD | Composition enhanced transition distribution | ctd_wp\n",
    "PAAC | Pseudo amino acid composition | paac_wp\n",
    "APAAC | Amphiphilic pseudo amino acid composition | apaac_wp\n",
    "QSO | Quasi sequence order | qos_wp\n",
    "SOC | Sequence order coupling | soc_wp\n",
    "\n",
    "[Pfeature Manual](https://webs.iiitd.edu.in/raghava/pfeature/Pfeature_Manual.pdf)"
   ]
  },
  {
   "cell_type": "markdown",
   "metadata": {},
   "source": [
    "### **Define functions for calculating the different features**"
   ]
  },
  {
   "cell_type": "code",
   "execution_count": null,
   "metadata": {},
   "outputs": [],
   "source": [
    "import pandas as pd"
   ]
  },
  {
   "cell_type": "code",
   "execution_count": null,
   "metadata": {},
   "outputs": [
    {
     "data": {
      "text/html": [
       "<div>\n",
       "<style scoped>\n",
       "    .dataframe tbody tr th:only-of-type {\n",
       "        vertical-align: middle;\n",
       "    }\n",
       "\n",
       "    .dataframe tbody tr th {\n",
       "        vertical-align: top;\n",
       "    }\n",
       "\n",
       "    .dataframe thead th {\n",
       "        text-align: right;\n",
       "    }\n",
       "</style>\n",
       "<table border=\"1\" class=\"dataframe\">\n",
       "  <thead>\n",
       "    <tr style=\"text-align: right;\">\n",
       "      <th></th>\n",
       "      <th>AAC_A</th>\n",
       "      <th>AAC_C</th>\n",
       "      <th>AAC_D</th>\n",
       "      <th>AAC_E</th>\n",
       "      <th>AAC_F</th>\n",
       "      <th>AAC_G</th>\n",
       "      <th>AAC_H</th>\n",
       "      <th>AAC_I</th>\n",
       "      <th>AAC_K</th>\n",
       "      <th>AAC_L</th>\n",
       "      <th>AAC_M</th>\n",
       "      <th>AAC_N</th>\n",
       "      <th>AAC_P</th>\n",
       "      <th>AAC_Q</th>\n",
       "      <th>AAC_R</th>\n",
       "      <th>AAC_S</th>\n",
       "      <th>AAC_T</th>\n",
       "      <th>AAC_V</th>\n",
       "      <th>AAC_W</th>\n",
       "      <th>AAC_Y</th>\n",
       "    </tr>\n",
       "  </thead>\n",
       "  <tbody>\n",
       "    <tr>\n",
       "      <th>0</th>\n",
       "      <td>27.27</td>\n",
       "      <td>0.00</td>\n",
       "      <td>9.09</td>\n",
       "      <td>0.00</td>\n",
       "      <td>9.09</td>\n",
       "      <td>9.09</td>\n",
       "      <td>0.00</td>\n",
       "      <td>0.00</td>\n",
       "      <td>0.00</td>\n",
       "      <td>0.00</td>\n",
       "      <td>0.00</td>\n",
       "      <td>9.09</td>\n",
       "      <td>9.09</td>\n",
       "      <td>0.00</td>\n",
       "      <td>0.00</td>\n",
       "      <td>0.00</td>\n",
       "      <td>0.00</td>\n",
       "      <td>18.18</td>\n",
       "      <td>0.00</td>\n",
       "      <td>9.09</td>\n",
       "    </tr>\n",
       "    <tr>\n",
       "      <th>1</th>\n",
       "      <td>0.00</td>\n",
       "      <td>54.55</td>\n",
       "      <td>0.00</td>\n",
       "      <td>9.09</td>\n",
       "      <td>0.00</td>\n",
       "      <td>0.00</td>\n",
       "      <td>0.00</td>\n",
       "      <td>0.00</td>\n",
       "      <td>0.00</td>\n",
       "      <td>0.00</td>\n",
       "      <td>0.00</td>\n",
       "      <td>0.00</td>\n",
       "      <td>0.00</td>\n",
       "      <td>0.00</td>\n",
       "      <td>0.00</td>\n",
       "      <td>18.18</td>\n",
       "      <td>18.18</td>\n",
       "      <td>0.00</td>\n",
       "      <td>0.00</td>\n",
       "      <td>0.00</td>\n",
       "    </tr>\n",
       "    <tr>\n",
       "      <th>2</th>\n",
       "      <td>0.00</td>\n",
       "      <td>0.00</td>\n",
       "      <td>9.09</td>\n",
       "      <td>18.18</td>\n",
       "      <td>9.09</td>\n",
       "      <td>9.09</td>\n",
       "      <td>9.09</td>\n",
       "      <td>0.00</td>\n",
       "      <td>0.00</td>\n",
       "      <td>9.09</td>\n",
       "      <td>9.09</td>\n",
       "      <td>0.00</td>\n",
       "      <td>18.18</td>\n",
       "      <td>0.00</td>\n",
       "      <td>0.00</td>\n",
       "      <td>0.00</td>\n",
       "      <td>0.00</td>\n",
       "      <td>9.09</td>\n",
       "      <td>0.00</td>\n",
       "      <td>0.00</td>\n",
       "    </tr>\n",
       "    <tr>\n",
       "      <th>3</th>\n",
       "      <td>0.00</td>\n",
       "      <td>0.00</td>\n",
       "      <td>0.00</td>\n",
       "      <td>18.18</td>\n",
       "      <td>9.09</td>\n",
       "      <td>9.09</td>\n",
       "      <td>9.09</td>\n",
       "      <td>0.00</td>\n",
       "      <td>0.00</td>\n",
       "      <td>9.09</td>\n",
       "      <td>9.09</td>\n",
       "      <td>9.09</td>\n",
       "      <td>18.18</td>\n",
       "      <td>0.00</td>\n",
       "      <td>0.00</td>\n",
       "      <td>0.00</td>\n",
       "      <td>0.00</td>\n",
       "      <td>9.09</td>\n",
       "      <td>0.00</td>\n",
       "      <td>0.00</td>\n",
       "    </tr>\n",
       "    <tr>\n",
       "      <th>4</th>\n",
       "      <td>0.00</td>\n",
       "      <td>0.00</td>\n",
       "      <td>9.09</td>\n",
       "      <td>18.18</td>\n",
       "      <td>18.18</td>\n",
       "      <td>9.09</td>\n",
       "      <td>0.00</td>\n",
       "      <td>0.00</td>\n",
       "      <td>0.00</td>\n",
       "      <td>9.09</td>\n",
       "      <td>9.09</td>\n",
       "      <td>9.09</td>\n",
       "      <td>18.18</td>\n",
       "      <td>0.00</td>\n",
       "      <td>0.00</td>\n",
       "      <td>0.00</td>\n",
       "      <td>0.00</td>\n",
       "      <td>0.00</td>\n",
       "      <td>0.00</td>\n",
       "      <td>0.00</td>\n",
       "    </tr>\n",
       "    <tr>\n",
       "      <th>...</th>\n",
       "      <td>...</td>\n",
       "      <td>...</td>\n",
       "      <td>...</td>\n",
       "      <td>...</td>\n",
       "      <td>...</td>\n",
       "      <td>...</td>\n",
       "      <td>...</td>\n",
       "      <td>...</td>\n",
       "      <td>...</td>\n",
       "      <td>...</td>\n",
       "      <td>...</td>\n",
       "      <td>...</td>\n",
       "      <td>...</td>\n",
       "      <td>...</td>\n",
       "      <td>...</td>\n",
       "      <td>...</td>\n",
       "      <td>...</td>\n",
       "      <td>...</td>\n",
       "      <td>...</td>\n",
       "      <td>...</td>\n",
       "    </tr>\n",
       "    <tr>\n",
       "      <th>1332</th>\n",
       "      <td>10.00</td>\n",
       "      <td>0.00</td>\n",
       "      <td>3.33</td>\n",
       "      <td>3.33</td>\n",
       "      <td>6.67</td>\n",
       "      <td>20.00</td>\n",
       "      <td>0.00</td>\n",
       "      <td>3.33</td>\n",
       "      <td>13.33</td>\n",
       "      <td>13.33</td>\n",
       "      <td>3.33</td>\n",
       "      <td>0.00</td>\n",
       "      <td>0.00</td>\n",
       "      <td>3.33</td>\n",
       "      <td>0.00</td>\n",
       "      <td>6.67</td>\n",
       "      <td>3.33</td>\n",
       "      <td>10.00</td>\n",
       "      <td>0.00</td>\n",
       "      <td>0.00</td>\n",
       "    </tr>\n",
       "    <tr>\n",
       "      <th>1333</th>\n",
       "      <td>6.67</td>\n",
       "      <td>3.33</td>\n",
       "      <td>0.00</td>\n",
       "      <td>0.00</td>\n",
       "      <td>3.33</td>\n",
       "      <td>20.00</td>\n",
       "      <td>6.67</td>\n",
       "      <td>3.33</td>\n",
       "      <td>3.33</td>\n",
       "      <td>6.67</td>\n",
       "      <td>0.00</td>\n",
       "      <td>6.67</td>\n",
       "      <td>0.00</td>\n",
       "      <td>3.33</td>\n",
       "      <td>6.67</td>\n",
       "      <td>10.00</td>\n",
       "      <td>3.33</td>\n",
       "      <td>13.33</td>\n",
       "      <td>3.33</td>\n",
       "      <td>0.00</td>\n",
       "    </tr>\n",
       "    <tr>\n",
       "      <th>1334</th>\n",
       "      <td>13.33</td>\n",
       "      <td>0.00</td>\n",
       "      <td>0.00</td>\n",
       "      <td>3.33</td>\n",
       "      <td>0.00</td>\n",
       "      <td>3.33</td>\n",
       "      <td>13.33</td>\n",
       "      <td>0.00</td>\n",
       "      <td>0.00</td>\n",
       "      <td>10.00</td>\n",
       "      <td>0.00</td>\n",
       "      <td>0.00</td>\n",
       "      <td>16.67</td>\n",
       "      <td>6.67</td>\n",
       "      <td>16.67</td>\n",
       "      <td>6.67</td>\n",
       "      <td>3.33</td>\n",
       "      <td>0.00</td>\n",
       "      <td>0.00</td>\n",
       "      <td>6.67</td>\n",
       "    </tr>\n",
       "    <tr>\n",
       "      <th>1335</th>\n",
       "      <td>6.67</td>\n",
       "      <td>0.00</td>\n",
       "      <td>6.67</td>\n",
       "      <td>6.67</td>\n",
       "      <td>0.00</td>\n",
       "      <td>6.67</td>\n",
       "      <td>3.33</td>\n",
       "      <td>6.67</td>\n",
       "      <td>6.67</td>\n",
       "      <td>26.67</td>\n",
       "      <td>0.00</td>\n",
       "      <td>3.33</td>\n",
       "      <td>0.00</td>\n",
       "      <td>10.00</td>\n",
       "      <td>10.00</td>\n",
       "      <td>3.33</td>\n",
       "      <td>3.33</td>\n",
       "      <td>0.00</td>\n",
       "      <td>0.00</td>\n",
       "      <td>0.00</td>\n",
       "    </tr>\n",
       "    <tr>\n",
       "      <th>1336</th>\n",
       "      <td>0.00</td>\n",
       "      <td>20.00</td>\n",
       "      <td>0.00</td>\n",
       "      <td>3.33</td>\n",
       "      <td>3.33</td>\n",
       "      <td>23.33</td>\n",
       "      <td>0.00</td>\n",
       "      <td>0.00</td>\n",
       "      <td>6.67</td>\n",
       "      <td>0.00</td>\n",
       "      <td>3.33</td>\n",
       "      <td>0.00</td>\n",
       "      <td>6.67</td>\n",
       "      <td>3.33</td>\n",
       "      <td>10.00</td>\n",
       "      <td>6.67</td>\n",
       "      <td>0.00</td>\n",
       "      <td>6.67</td>\n",
       "      <td>0.00</td>\n",
       "      <td>6.67</td>\n",
       "    </tr>\n",
       "  </tbody>\n",
       "</table>\n",
       "<p>1337 rows × 20 columns</p>\n",
       "</div>"
      ],
      "text/plain": [
       "      AAC_A  AAC_C  AAC_D  AAC_E  AAC_F  ...  AAC_S  AAC_T  AAC_V  AAC_W  AAC_Y\n",
       "0     27.27   0.00   9.09   0.00   9.09  ...   0.00   0.00  18.18   0.00   9.09\n",
       "1      0.00  54.55   0.00   9.09   0.00  ...  18.18  18.18   0.00   0.00   0.00\n",
       "2      0.00   0.00   9.09  18.18   9.09  ...   0.00   0.00   9.09   0.00   0.00\n",
       "3      0.00   0.00   0.00  18.18   9.09  ...   0.00   0.00   9.09   0.00   0.00\n",
       "4      0.00   0.00   9.09  18.18  18.18  ...   0.00   0.00   0.00   0.00   0.00\n",
       "...     ...    ...    ...    ...    ...  ...    ...    ...    ...    ...    ...\n",
       "1332  10.00   0.00   3.33   3.33   6.67  ...   6.67   3.33  10.00   0.00   0.00\n",
       "1333   6.67   3.33   0.00   0.00   3.33  ...  10.00   3.33  13.33   3.33   0.00\n",
       "1334  13.33   0.00   0.00   3.33   0.00  ...   6.67   3.33   0.00   0.00   6.67\n",
       "1335   6.67   0.00   6.67   6.67   0.00  ...   3.33   3.33   0.00   0.00   0.00\n",
       "1336   0.00  20.00   0.00   3.33   3.33  ...   6.67   0.00   6.67   0.00   6.67\n",
       "\n",
       "[1337 rows x 20 columns]"
      ]
     },
     "execution_count": null,
     "metadata": {},
     "output_type": "execute_result"
    }
   ],
   "source": [
    "# Amino acid composition (AAC)\n",
    "\n",
    "from Pfeature.pfeature import aac_wp\n",
    "\n",
    "def aac(input):\n",
    "  a = input.rstrip('txt')\n",
    "  \n",
    "  output = a + 'aac.csv'\n",
    "  df_out = aac_wp(input, output)\n",
    "  df_in = pd.read_csv(output)\n",
    "  return df_in\n",
    "\n",
    "aac('train_po_cdhit.txt')"
   ]
  },
  {
   "cell_type": "code",
   "execution_count": null,
   "metadata": {},
   "outputs": [],
   "source": [
    "# Dipeptide composition (DPC)\n",
    "\n",
    "from Pfeature.pfeature import dpc_wp\n",
    "\n",
    "def dpc(input):\n",
    "  a = input.rstrip('txt')\n",
    "  output = a + 'dpc.csv'\n",
    "  df_out = dpc_wp(input, output, 1)\n",
    "  df_in = pd.read_csv(output)\n",
    "  return df_in\n",
    "\n",
    "feature = dpc('train_po_cdhit.txt')\n",
    "feature"
   ]
  },
  {
   "cell_type": "markdown",
   "metadata": {},
   "source": [
    "### **Calculate feature for both positive and negative classes + combines the two classes + merge with class labels**"
   ]
  },
  {
   "cell_type": "code",
   "execution_count": null,
   "metadata": {},
   "outputs": [],
   "source": [
    "pos = 'train_po_cdhit.txt'\n",
    "neg = 'train_ne_cdhit.txt'\n",
    "\n",
    "def feature_calc(po, ne, feature_name):\n",
    "  # Calculate feature\n",
    "  po_feature = feature_name(po)\n",
    "  ne_feature = feature_name(ne)\n",
    "  # Create class labels\n",
    "  po_class = pd.Series(['positive' for i in range(len(po_feature))])\n",
    "  ne_class = pd.Series(['negative' for i in range(len(ne_feature))])\n",
    "  # Combine po and ne\n",
    "  po_ne_class = pd.concat([po_class, ne_class], axis=0)\n",
    "  po_ne_class.name = 'class'\n",
    "  po_ne_feature = pd.concat([po_feature, ne_feature], axis=0)\n",
    "  # Combine feature and class\n",
    "  df = pd.concat([po_ne_feature, po_ne_class], axis=1)\n",
    "  return df\n",
    "\n",
    "feature = feature_calc(pos, neg, aac) # AAC\n",
    "#feature = feature_calc(pos, neg, dpc) # DPC\n",
    "feature"
   ]
  },
  {
   "cell_type": "markdown",
   "metadata": {},
   "source": [
    "# **Data pre-processing**"
   ]
  },
  {
   "cell_type": "code",
   "execution_count": null,
   "metadata": {},
   "outputs": [],
   "source": [
    "# Assigns the features to X and class label to Y\n",
    "X = feature.drop('class', axis=1)\n",
    "y = feature['class'].copy()"
   ]
  },
  {
   "cell_type": "code",
   "execution_count": null,
   "metadata": {},
   "outputs": [],
   "source": [
    "# Encoding the Y class label\n",
    "y = y.map({\"positive\": 1, \"negative\": 0})  "
   ]
  },
  {
   "cell_type": "code",
   "execution_count": null,
   "metadata": {},
   "outputs": [
    {
     "data": {
      "text/plain": [
       "(2759, 20)"
      ]
     },
     "execution_count": null,
     "metadata": {},
     "output_type": "execute_result"
    }
   ],
   "source": [
    "X.shape"
   ]
  },
  {
   "cell_type": "code",
   "execution_count": null,
   "metadata": {},
   "outputs": [
    {
     "data": {
      "text/html": [
       "<div>\n",
       "<style scoped>\n",
       "    .dataframe tbody tr th:only-of-type {\n",
       "        vertical-align: middle;\n",
       "    }\n",
       "\n",
       "    .dataframe tbody tr th {\n",
       "        vertical-align: top;\n",
       "    }\n",
       "\n",
       "    .dataframe thead th {\n",
       "        text-align: right;\n",
       "    }\n",
       "</style>\n",
       "<table border=\"1\" class=\"dataframe\">\n",
       "  <thead>\n",
       "    <tr style=\"text-align: right;\">\n",
       "      <th></th>\n",
       "      <th>AAC_A</th>\n",
       "      <th>AAC_C</th>\n",
       "      <th>AAC_D</th>\n",
       "      <th>AAC_E</th>\n",
       "      <th>AAC_F</th>\n",
       "      <th>AAC_G</th>\n",
       "      <th>AAC_H</th>\n",
       "      <th>AAC_I</th>\n",
       "      <th>AAC_K</th>\n",
       "      <th>AAC_L</th>\n",
       "      <th>AAC_M</th>\n",
       "      <th>AAC_N</th>\n",
       "      <th>AAC_P</th>\n",
       "      <th>AAC_Q</th>\n",
       "      <th>AAC_R</th>\n",
       "      <th>AAC_S</th>\n",
       "      <th>AAC_T</th>\n",
       "      <th>AAC_V</th>\n",
       "      <th>AAC_W</th>\n",
       "      <th>AAC_Y</th>\n",
       "    </tr>\n",
       "  </thead>\n",
       "  <tbody>\n",
       "    <tr>\n",
       "      <th>0</th>\n",
       "      <td>27.27</td>\n",
       "      <td>0.00</td>\n",
       "      <td>9.09</td>\n",
       "      <td>0.00</td>\n",
       "      <td>9.09</td>\n",
       "      <td>9.09</td>\n",
       "      <td>0.00</td>\n",
       "      <td>0.00</td>\n",
       "      <td>0.00</td>\n",
       "      <td>0.00</td>\n",
       "      <td>0.00</td>\n",
       "      <td>9.09</td>\n",
       "      <td>9.09</td>\n",
       "      <td>0.00</td>\n",
       "      <td>0.00</td>\n",
       "      <td>0.00</td>\n",
       "      <td>0.00</td>\n",
       "      <td>18.18</td>\n",
       "      <td>0.0</td>\n",
       "      <td>9.09</td>\n",
       "    </tr>\n",
       "    <tr>\n",
       "      <th>1</th>\n",
       "      <td>0.00</td>\n",
       "      <td>54.55</td>\n",
       "      <td>0.00</td>\n",
       "      <td>9.09</td>\n",
       "      <td>0.00</td>\n",
       "      <td>0.00</td>\n",
       "      <td>0.00</td>\n",
       "      <td>0.00</td>\n",
       "      <td>0.00</td>\n",
       "      <td>0.00</td>\n",
       "      <td>0.00</td>\n",
       "      <td>0.00</td>\n",
       "      <td>0.00</td>\n",
       "      <td>0.00</td>\n",
       "      <td>0.00</td>\n",
       "      <td>18.18</td>\n",
       "      <td>18.18</td>\n",
       "      <td>0.00</td>\n",
       "      <td>0.0</td>\n",
       "      <td>0.00</td>\n",
       "    </tr>\n",
       "    <tr>\n",
       "      <th>2</th>\n",
       "      <td>0.00</td>\n",
       "      <td>0.00</td>\n",
       "      <td>9.09</td>\n",
       "      <td>18.18</td>\n",
       "      <td>9.09</td>\n",
       "      <td>9.09</td>\n",
       "      <td>9.09</td>\n",
       "      <td>0.00</td>\n",
       "      <td>0.00</td>\n",
       "      <td>9.09</td>\n",
       "      <td>9.09</td>\n",
       "      <td>0.00</td>\n",
       "      <td>18.18</td>\n",
       "      <td>0.00</td>\n",
       "      <td>0.00</td>\n",
       "      <td>0.00</td>\n",
       "      <td>0.00</td>\n",
       "      <td>9.09</td>\n",
       "      <td>0.0</td>\n",
       "      <td>0.00</td>\n",
       "    </tr>\n",
       "    <tr>\n",
       "      <th>3</th>\n",
       "      <td>0.00</td>\n",
       "      <td>0.00</td>\n",
       "      <td>0.00</td>\n",
       "      <td>18.18</td>\n",
       "      <td>9.09</td>\n",
       "      <td>9.09</td>\n",
       "      <td>9.09</td>\n",
       "      <td>0.00</td>\n",
       "      <td>0.00</td>\n",
       "      <td>9.09</td>\n",
       "      <td>9.09</td>\n",
       "      <td>9.09</td>\n",
       "      <td>18.18</td>\n",
       "      <td>0.00</td>\n",
       "      <td>0.00</td>\n",
       "      <td>0.00</td>\n",
       "      <td>0.00</td>\n",
       "      <td>9.09</td>\n",
       "      <td>0.0</td>\n",
       "      <td>0.00</td>\n",
       "    </tr>\n",
       "    <tr>\n",
       "      <th>4</th>\n",
       "      <td>0.00</td>\n",
       "      <td>0.00</td>\n",
       "      <td>9.09</td>\n",
       "      <td>18.18</td>\n",
       "      <td>18.18</td>\n",
       "      <td>9.09</td>\n",
       "      <td>0.00</td>\n",
       "      <td>0.00</td>\n",
       "      <td>0.00</td>\n",
       "      <td>9.09</td>\n",
       "      <td>9.09</td>\n",
       "      <td>9.09</td>\n",
       "      <td>18.18</td>\n",
       "      <td>0.00</td>\n",
       "      <td>0.00</td>\n",
       "      <td>0.00</td>\n",
       "      <td>0.00</td>\n",
       "      <td>0.00</td>\n",
       "      <td>0.0</td>\n",
       "      <td>0.00</td>\n",
       "    </tr>\n",
       "    <tr>\n",
       "      <th>...</th>\n",
       "      <td>...</td>\n",
       "      <td>...</td>\n",
       "      <td>...</td>\n",
       "      <td>...</td>\n",
       "      <td>...</td>\n",
       "      <td>...</td>\n",
       "      <td>...</td>\n",
       "      <td>...</td>\n",
       "      <td>...</td>\n",
       "      <td>...</td>\n",
       "      <td>...</td>\n",
       "      <td>...</td>\n",
       "      <td>...</td>\n",
       "      <td>...</td>\n",
       "      <td>...</td>\n",
       "      <td>...</td>\n",
       "      <td>...</td>\n",
       "      <td>...</td>\n",
       "      <td>...</td>\n",
       "      <td>...</td>\n",
       "    </tr>\n",
       "    <tr>\n",
       "      <th>1417</th>\n",
       "      <td>13.33</td>\n",
       "      <td>0.00</td>\n",
       "      <td>3.33</td>\n",
       "      <td>3.33</td>\n",
       "      <td>0.00</td>\n",
       "      <td>13.33</td>\n",
       "      <td>0.00</td>\n",
       "      <td>3.33</td>\n",
       "      <td>26.67</td>\n",
       "      <td>10.00</td>\n",
       "      <td>3.33</td>\n",
       "      <td>3.33</td>\n",
       "      <td>3.33</td>\n",
       "      <td>3.33</td>\n",
       "      <td>0.00</td>\n",
       "      <td>0.00</td>\n",
       "      <td>3.33</td>\n",
       "      <td>0.00</td>\n",
       "      <td>10.0</td>\n",
       "      <td>0.00</td>\n",
       "    </tr>\n",
       "    <tr>\n",
       "      <th>1418</th>\n",
       "      <td>6.67</td>\n",
       "      <td>0.00</td>\n",
       "      <td>0.00</td>\n",
       "      <td>3.33</td>\n",
       "      <td>6.67</td>\n",
       "      <td>20.00</td>\n",
       "      <td>3.33</td>\n",
       "      <td>3.33</td>\n",
       "      <td>13.33</td>\n",
       "      <td>13.33</td>\n",
       "      <td>3.33</td>\n",
       "      <td>0.00</td>\n",
       "      <td>3.33</td>\n",
       "      <td>10.00</td>\n",
       "      <td>0.00</td>\n",
       "      <td>6.67</td>\n",
       "      <td>3.33</td>\n",
       "      <td>3.33</td>\n",
       "      <td>0.0</td>\n",
       "      <td>0.00</td>\n",
       "    </tr>\n",
       "    <tr>\n",
       "      <th>1419</th>\n",
       "      <td>6.67</td>\n",
       "      <td>20.00</td>\n",
       "      <td>0.00</td>\n",
       "      <td>3.33</td>\n",
       "      <td>0.00</td>\n",
       "      <td>10.00</td>\n",
       "      <td>0.00</td>\n",
       "      <td>6.67</td>\n",
       "      <td>10.00</td>\n",
       "      <td>3.33</td>\n",
       "      <td>0.00</td>\n",
       "      <td>3.33</td>\n",
       "      <td>6.67</td>\n",
       "      <td>0.00</td>\n",
       "      <td>0.00</td>\n",
       "      <td>6.67</td>\n",
       "      <td>6.67</td>\n",
       "      <td>10.00</td>\n",
       "      <td>0.0</td>\n",
       "      <td>6.67</td>\n",
       "    </tr>\n",
       "    <tr>\n",
       "      <th>1420</th>\n",
       "      <td>6.67</td>\n",
       "      <td>0.00</td>\n",
       "      <td>3.33</td>\n",
       "      <td>3.33</td>\n",
       "      <td>6.67</td>\n",
       "      <td>0.00</td>\n",
       "      <td>3.33</td>\n",
       "      <td>3.33</td>\n",
       "      <td>3.33</td>\n",
       "      <td>6.67</td>\n",
       "      <td>3.33</td>\n",
       "      <td>16.67</td>\n",
       "      <td>3.33</td>\n",
       "      <td>6.67</td>\n",
       "      <td>10.00</td>\n",
       "      <td>6.67</td>\n",
       "      <td>0.00</td>\n",
       "      <td>13.33</td>\n",
       "      <td>0.0</td>\n",
       "      <td>3.33</td>\n",
       "    </tr>\n",
       "    <tr>\n",
       "      <th>1421</th>\n",
       "      <td>0.00</td>\n",
       "      <td>20.00</td>\n",
       "      <td>6.67</td>\n",
       "      <td>6.67</td>\n",
       "      <td>0.00</td>\n",
       "      <td>6.67</td>\n",
       "      <td>6.67</td>\n",
       "      <td>6.67</td>\n",
       "      <td>6.67</td>\n",
       "      <td>10.00</td>\n",
       "      <td>10.00</td>\n",
       "      <td>0.00</td>\n",
       "      <td>6.67</td>\n",
       "      <td>0.00</td>\n",
       "      <td>3.33</td>\n",
       "      <td>3.33</td>\n",
       "      <td>0.00</td>\n",
       "      <td>3.33</td>\n",
       "      <td>0.0</td>\n",
       "      <td>3.33</td>\n",
       "    </tr>\n",
       "  </tbody>\n",
       "</table>\n",
       "<p>2759 rows × 20 columns</p>\n",
       "</div>"
      ],
      "text/plain": [
       "      AAC_A  AAC_C  AAC_D  AAC_E  AAC_F  ...  AAC_S  AAC_T  AAC_V  AAC_W  AAC_Y\n",
       "0     27.27   0.00   9.09   0.00   9.09  ...   0.00   0.00  18.18    0.0   9.09\n",
       "1      0.00  54.55   0.00   9.09   0.00  ...  18.18  18.18   0.00    0.0   0.00\n",
       "2      0.00   0.00   9.09  18.18   9.09  ...   0.00   0.00   9.09    0.0   0.00\n",
       "3      0.00   0.00   0.00  18.18   9.09  ...   0.00   0.00   9.09    0.0   0.00\n",
       "4      0.00   0.00   9.09  18.18  18.18  ...   0.00   0.00   0.00    0.0   0.00\n",
       "...     ...    ...    ...    ...    ...  ...    ...    ...    ...    ...    ...\n",
       "1417  13.33   0.00   3.33   3.33   0.00  ...   0.00   3.33   0.00   10.0   0.00\n",
       "1418   6.67   0.00   0.00   3.33   6.67  ...   6.67   3.33   3.33    0.0   0.00\n",
       "1419   6.67  20.00   0.00   3.33   0.00  ...   6.67   6.67  10.00    0.0   6.67\n",
       "1420   6.67   0.00   3.33   3.33   6.67  ...   6.67   0.00  13.33    0.0   3.33\n",
       "1421   0.00  20.00   6.67   6.67   0.00  ...   3.33   0.00   3.33    0.0   3.33\n",
       "\n",
       "[2759 rows x 20 columns]"
      ]
     },
     "execution_count": null,
     "metadata": {},
     "output_type": "execute_result"
    }
   ],
   "source": [
    "# Feature selection (Variance threshold)\n",
    "from sklearn.feature_selection import VarianceThreshold\n",
    "\n",
    "fs = VarianceThreshold(threshold=0.1)\n",
    "fs.fit_transform(X)\n",
    "#X2.shape\n",
    "X2 = X.loc[:, fs.get_support()]\n",
    "X2"
   ]
  },
  {
   "cell_type": "code",
   "execution_count": null,
   "metadata": {},
   "outputs": [],
   "source": [
    "# Data split\n",
    "from sklearn.model_selection import train_test_split\n",
    "\n",
    "X_train, X_test, y_train, y_test = train_test_split(X2, y, test_size=0.2, random_state =42, stratify=y)"
   ]
  },
  {
   "cell_type": "markdown",
   "metadata": {},
   "source": [
    "---"
   ]
  },
  {
   "cell_type": "markdown",
   "metadata": {},
   "source": [
    "# **Quickly compare >30 ML algorithms**"
   ]
  },
  {
   "cell_type": "code",
   "execution_count": null,
   "metadata": {},
   "outputs": [
    {
     "data": {
      "application/vnd.colab-display-data+json": {
       "pip_warning": {
        "packages": [
         "dateutil",
         "pyparsing",
         "six",
         "typing_extensions",
         "wcwidth"
        ]
       }
      }
     },
     "metadata": {},
     "output_type": "display_data"
    }
   ],
   "source": [
    "! pip install lazypredict"
   ]
  },
  {
   "cell_type": "code",
   "execution_count": null,
   "metadata": {},
   "outputs": [
    {
     "name": "stderr",
     "output_type": "stream",
     "text": [
      "100%|██████████| 29/29 [00:07<00:00,  4.12it/s]\n",
      "100%|██████████| 29/29 [00:00<00:00, 81524.68it/s]\n"
     ]
    }
   ],
   "source": [
    "# Import libraries\n",
    "import lazypredict\n",
    "from lazypredict.Supervised import LazyClassifier\n",
    "from sklearn.model_selection import train_test_split\n",
    "from sklearn.metrics import matthews_corrcoef\n",
    "\n",
    "# Load dataset\n",
    "X = feature.drop('class', axis=1)\n",
    "y = feature['class'].copy()\n",
    "\n",
    "# Data split\n",
    "X_train, X_test, y_train, y_test = train_test_split(X, y, test_size=0.2, random_state =42, stratify=y)\n",
    "\n",
    "# Defines and builds the lazyclassifier\n",
    "clf = LazyClassifier(verbose=0,ignore_warnings=True, custom_metric=matthews_corrcoef)\n",
    "models_train,predictions_train = clf.fit(X_train, X_train, y_train, y_train)\n",
    "# models_test,predictions_test = clf.fit(X_train, X_test, y_train, y_test)"
   ]
  },
  {
   "cell_type": "code",
   "execution_count": null,
   "metadata": {},
   "outputs": [
    {
     "data": {
      "text/html": [
       "<div>\n",
       "<style scoped>\n",
       "    .dataframe tbody tr th:only-of-type {\n",
       "        vertical-align: middle;\n",
       "    }\n",
       "\n",
       "    .dataframe tbody tr th {\n",
       "        vertical-align: top;\n",
       "    }\n",
       "\n",
       "    .dataframe thead th {\n",
       "        text-align: right;\n",
       "    }\n",
       "</style>\n",
       "<table border=\"1\" class=\"dataframe\">\n",
       "  <thead>\n",
       "    <tr style=\"text-align: right;\">\n",
       "      <th></th>\n",
       "      <th>Accuracy</th>\n",
       "      <th>Balanced Accuracy</th>\n",
       "      <th>ROC AUC</th>\n",
       "      <th>F1 Score</th>\n",
       "      <th>matthews_corrcoef</th>\n",
       "      <th>Time Taken</th>\n",
       "    </tr>\n",
       "    <tr>\n",
       "      <th>Model</th>\n",
       "      <th></th>\n",
       "      <th></th>\n",
       "      <th></th>\n",
       "      <th></th>\n",
       "      <th></th>\n",
       "      <th></th>\n",
       "    </tr>\n",
       "  </thead>\n",
       "  <tbody>\n",
       "    <tr>\n",
       "      <th>RandomForestClassifier</th>\n",
       "      <td>0.93</td>\n",
       "      <td>0.93</td>\n",
       "      <td>None</td>\n",
       "      <td>0.93</td>\n",
       "      <td>0.86</td>\n",
       "      <td>0.58</td>\n",
       "    </tr>\n",
       "    <tr>\n",
       "      <th>LabelSpreading</th>\n",
       "      <td>0.93</td>\n",
       "      <td>0.93</td>\n",
       "      <td>None</td>\n",
       "      <td>0.93</td>\n",
       "      <td>0.86</td>\n",
       "      <td>0.65</td>\n",
       "    </tr>\n",
       "    <tr>\n",
       "      <th>LabelPropagation</th>\n",
       "      <td>0.93</td>\n",
       "      <td>0.93</td>\n",
       "      <td>None</td>\n",
       "      <td>0.93</td>\n",
       "      <td>0.86</td>\n",
       "      <td>0.56</td>\n",
       "    </tr>\n",
       "    <tr>\n",
       "      <th>DecisionTreeClassifier</th>\n",
       "      <td>0.93</td>\n",
       "      <td>0.93</td>\n",
       "      <td>None</td>\n",
       "      <td>0.93</td>\n",
       "      <td>0.86</td>\n",
       "      <td>0.07</td>\n",
       "    </tr>\n",
       "    <tr>\n",
       "      <th>ExtraTreeClassifier</th>\n",
       "      <td>0.93</td>\n",
       "      <td>0.93</td>\n",
       "      <td>None</td>\n",
       "      <td>0.93</td>\n",
       "      <td>0.86</td>\n",
       "      <td>0.05</td>\n",
       "    </tr>\n",
       "    <tr>\n",
       "      <th>ExtraTreesClassifier</th>\n",
       "      <td>0.93</td>\n",
       "      <td>0.93</td>\n",
       "      <td>None</td>\n",
       "      <td>0.93</td>\n",
       "      <td>0.86</td>\n",
       "      <td>0.42</td>\n",
       "    </tr>\n",
       "    <tr>\n",
       "      <th>LGBMClassifier</th>\n",
       "      <td>0.92</td>\n",
       "      <td>0.92</td>\n",
       "      <td>None</td>\n",
       "      <td>0.92</td>\n",
       "      <td>0.84</td>\n",
       "      <td>0.21</td>\n",
       "    </tr>\n",
       "    <tr>\n",
       "      <th>BaggingClassifier</th>\n",
       "      <td>0.92</td>\n",
       "      <td>0.92</td>\n",
       "      <td>None</td>\n",
       "      <td>0.92</td>\n",
       "      <td>0.83</td>\n",
       "      <td>0.20</td>\n",
       "    </tr>\n",
       "    <tr>\n",
       "      <th>NuSVC</th>\n",
       "      <td>0.86</td>\n",
       "      <td>0.86</td>\n",
       "      <td>None</td>\n",
       "      <td>0.86</td>\n",
       "      <td>0.72</td>\n",
       "      <td>0.53</td>\n",
       "    </tr>\n",
       "    <tr>\n",
       "      <th>SVC</th>\n",
       "      <td>0.82</td>\n",
       "      <td>0.82</td>\n",
       "      <td>None</td>\n",
       "      <td>0.82</td>\n",
       "      <td>0.65</td>\n",
       "      <td>0.44</td>\n",
       "    </tr>\n",
       "    <tr>\n",
       "      <th>KNeighborsClassifier</th>\n",
       "      <td>0.82</td>\n",
       "      <td>0.82</td>\n",
       "      <td>None</td>\n",
       "      <td>0.82</td>\n",
       "      <td>0.64</td>\n",
       "      <td>0.29</td>\n",
       "    </tr>\n",
       "    <tr>\n",
       "      <th>XGBClassifier</th>\n",
       "      <td>0.80</td>\n",
       "      <td>0.80</td>\n",
       "      <td>None</td>\n",
       "      <td>0.80</td>\n",
       "      <td>0.61</td>\n",
       "      <td>0.22</td>\n",
       "    </tr>\n",
       "    <tr>\n",
       "      <th>AdaBoostClassifier</th>\n",
       "      <td>0.76</td>\n",
       "      <td>0.76</td>\n",
       "      <td>None</td>\n",
       "      <td>0.76</td>\n",
       "      <td>0.51</td>\n",
       "      <td>0.44</td>\n",
       "    </tr>\n",
       "    <tr>\n",
       "      <th>QuadraticDiscriminantAnalysis</th>\n",
       "      <td>0.75</td>\n",
       "      <td>0.75</td>\n",
       "      <td>None</td>\n",
       "      <td>0.75</td>\n",
       "      <td>0.51</td>\n",
       "      <td>0.08</td>\n",
       "    </tr>\n",
       "    <tr>\n",
       "      <th>RidgeClassifier</th>\n",
       "      <td>0.74</td>\n",
       "      <td>0.74</td>\n",
       "      <td>None</td>\n",
       "      <td>0.74</td>\n",
       "      <td>0.48</td>\n",
       "      <td>0.08</td>\n",
       "    </tr>\n",
       "    <tr>\n",
       "      <th>RidgeClassifierCV</th>\n",
       "      <td>0.74</td>\n",
       "      <td>0.74</td>\n",
       "      <td>None</td>\n",
       "      <td>0.74</td>\n",
       "      <td>0.48</td>\n",
       "      <td>0.09</td>\n",
       "    </tr>\n",
       "    <tr>\n",
       "      <th>LinearSVC</th>\n",
       "      <td>0.74</td>\n",
       "      <td>0.74</td>\n",
       "      <td>None</td>\n",
       "      <td>0.74</td>\n",
       "      <td>0.47</td>\n",
       "      <td>0.31</td>\n",
       "    </tr>\n",
       "    <tr>\n",
       "      <th>LinearDiscriminantAnalysis</th>\n",
       "      <td>0.73</td>\n",
       "      <td>0.74</td>\n",
       "      <td>None</td>\n",
       "      <td>0.73</td>\n",
       "      <td>0.47</td>\n",
       "      <td>0.11</td>\n",
       "    </tr>\n",
       "    <tr>\n",
       "      <th>LogisticRegression</th>\n",
       "      <td>0.73</td>\n",
       "      <td>0.73</td>\n",
       "      <td>None</td>\n",
       "      <td>0.73</td>\n",
       "      <td>0.47</td>\n",
       "      <td>0.09</td>\n",
       "    </tr>\n",
       "    <tr>\n",
       "      <th>CalibratedClassifierCV</th>\n",
       "      <td>0.73</td>\n",
       "      <td>0.73</td>\n",
       "      <td>None</td>\n",
       "      <td>0.73</td>\n",
       "      <td>0.46</td>\n",
       "      <td>1.00</td>\n",
       "    </tr>\n",
       "    <tr>\n",
       "      <th>NearestCentroid</th>\n",
       "      <td>0.72</td>\n",
       "      <td>0.72</td>\n",
       "      <td>None</td>\n",
       "      <td>0.72</td>\n",
       "      <td>0.45</td>\n",
       "      <td>0.06</td>\n",
       "    </tr>\n",
       "    <tr>\n",
       "      <th>GaussianNB</th>\n",
       "      <td>0.71</td>\n",
       "      <td>0.71</td>\n",
       "      <td>None</td>\n",
       "      <td>0.71</td>\n",
       "      <td>0.43</td>\n",
       "      <td>0.05</td>\n",
       "    </tr>\n",
       "    <tr>\n",
       "      <th>BernoulliNB</th>\n",
       "      <td>0.71</td>\n",
       "      <td>0.71</td>\n",
       "      <td>None</td>\n",
       "      <td>0.71</td>\n",
       "      <td>0.42</td>\n",
       "      <td>0.05</td>\n",
       "    </tr>\n",
       "    <tr>\n",
       "      <th>SGDClassifier</th>\n",
       "      <td>0.67</td>\n",
       "      <td>0.66</td>\n",
       "      <td>None</td>\n",
       "      <td>0.66</td>\n",
       "      <td>0.33</td>\n",
       "      <td>0.09</td>\n",
       "    </tr>\n",
       "    <tr>\n",
       "      <th>Perceptron</th>\n",
       "      <td>0.65</td>\n",
       "      <td>0.65</td>\n",
       "      <td>None</td>\n",
       "      <td>0.65</td>\n",
       "      <td>0.29</td>\n",
       "      <td>0.07</td>\n",
       "    </tr>\n",
       "    <tr>\n",
       "      <th>PassiveAggressiveClassifier</th>\n",
       "      <td>0.64</td>\n",
       "      <td>0.64</td>\n",
       "      <td>None</td>\n",
       "      <td>0.63</td>\n",
       "      <td>0.30</td>\n",
       "      <td>0.07</td>\n",
       "    </tr>\n",
       "    <tr>\n",
       "      <th>DummyClassifier</th>\n",
       "      <td>0.49</td>\n",
       "      <td>0.49</td>\n",
       "      <td>None</td>\n",
       "      <td>0.49</td>\n",
       "      <td>-0.01</td>\n",
       "      <td>0.04</td>\n",
       "    </tr>\n",
       "  </tbody>\n",
       "</table>\n",
       "</div>"
      ],
      "text/plain": [
       "                               Accuracy  ...  Time Taken\n",
       "Model                                    ...            \n",
       "RandomForestClassifier             0.93  ...        0.58\n",
       "LabelSpreading                     0.93  ...        0.65\n",
       "LabelPropagation                   0.93  ...        0.56\n",
       "DecisionTreeClassifier             0.93  ...        0.07\n",
       "ExtraTreeClassifier                0.93  ...        0.05\n",
       "ExtraTreesClassifier               0.93  ...        0.42\n",
       "LGBMClassifier                     0.92  ...        0.21\n",
       "BaggingClassifier                  0.92  ...        0.20\n",
       "NuSVC                              0.86  ...        0.53\n",
       "SVC                                0.82  ...        0.44\n",
       "KNeighborsClassifier               0.82  ...        0.29\n",
       "XGBClassifier                      0.80  ...        0.22\n",
       "AdaBoostClassifier                 0.76  ...        0.44\n",
       "QuadraticDiscriminantAnalysis      0.75  ...        0.08\n",
       "RidgeClassifier                    0.74  ...        0.08\n",
       "RidgeClassifierCV                  0.74  ...        0.09\n",
       "LinearSVC                          0.74  ...        0.31\n",
       "LinearDiscriminantAnalysis         0.73  ...        0.11\n",
       "LogisticRegression                 0.73  ...        0.09\n",
       "CalibratedClassifierCV             0.73  ...        1.00\n",
       "NearestCentroid                    0.72  ...        0.06\n",
       "GaussianNB                         0.71  ...        0.05\n",
       "BernoulliNB                        0.71  ...        0.05\n",
       "SGDClassifier                      0.67  ...        0.09\n",
       "Perceptron                         0.65  ...        0.07\n",
       "PassiveAggressiveClassifier        0.64  ...        0.07\n",
       "DummyClassifier                    0.49  ...        0.04\n",
       "\n",
       "[27 rows x 6 columns]"
      ]
     },
     "execution_count": null,
     "metadata": {},
     "output_type": "execute_result"
    }
   ],
   "source": [
    "# Prints the model performance (Training set)\n",
    "models_train"
   ]
  },
  {
   "cell_type": "code",
   "execution_count": null,
   "metadata": {},
   "outputs": [
    {
     "data": {
      "text/plain": [
       "1098    positive\n",
       "972     positive\n",
       "1334    negative\n",
       "1163    positive\n",
       "821     negative\n",
       "          ...   \n",
       "737     positive\n",
       "1013    positive\n",
       "959     positive\n",
       "121     negative\n",
       "698     negative\n",
       "Name: class, Length: 552, dtype: object"
      ]
     },
     "execution_count": null,
     "metadata": {},
     "output_type": "execute_result"
    }
   ],
   "source": [
    "y_test"
   ]
  },
  {
   "cell_type": "code",
   "execution_count": null,
   "metadata": {},
   "outputs": [
    {
     "data": {
      "text/plain": [
       "[(0.0, 1.0)]"
      ]
     },
     "execution_count": null,
     "metadata": {},
     "output_type": "execute_result"
    },
    {
     "data": {
      "image/png": "[encoded data removed]",
      "text/plain": [
       "<Figure size 360x720 with 1 Axes>"
      ]
     },
     "metadata": {
      "needs_background": "light"
     },
     "output_type": "display_data"
    }
   ],
   "source": [
    "# Plot of Accuracy\n",
    "import matplotlib.pyplot as plt\n",
    "import seaborn as sns\n",
    "\n",
    "plt.figure(figsize=(5, 10))\n",
    "sns.set_theme(style=\"whitegrid\")\n",
    "ax = sns.barplot(y=models_train.index, x=\"Accuracy\", data=models_train)\n",
    "ax.set(xlim=(0, 1))"
   ]
  },
  {
   "cell_type": "code",
   "execution_count": null,
   "metadata": {},
   "outputs": [
    {
     "data": {
      "text/plain": [
       "[(0.0, 1.0)]"
      ]
     },
     "execution_count": null,
     "metadata": {},
     "output_type": "execute_result"
    },
    {
     "data": {
      "image/png": "[encoded data removed]",
      "text/plain": [
       "<Figure size 360x720 with 1 Axes>"
      ]
     },
     "metadata": {},
     "output_type": "display_data"
    }
   ],
   "source": [
    "# Plot of MCC\n",
    "import matplotlib.pyplot as plt\n",
    "import seaborn as sns\n",
    "\n",
    "plt.figure(figsize=(5, 10))\n",
    "sns.set_theme(style=\"whitegrid\")\n",
    "ax = sns.barplot(y=models_train.index, x=\"matthews_corrcoef\", data=models_train)\n",
    "ax.set(xlim=(0, 1))"
   ]
  },
  {
   "cell_type": "markdown",
   "metadata": {},
   "source": [
    "---"
   ]
  },
  {
   "cell_type": "markdown",
   "metadata": {},
   "source": [
    "# **Random Forest**"
   ]
  },
  {
   "cell_type": "code",
   "execution_count": null,
   "metadata": {},
   "outputs": [
    {
     "data": {
      "text/plain": [
       "RandomForestClassifier(bootstrap=True, ccp_alpha=0.0, class_weight=None,\n",
       "                       criterion='gini', max_depth=None, max_features='auto',\n",
       "                       max_leaf_nodes=None, max_samples=None,\n",
       "                       min_impurity_decrease=0.0, min_impurity_split=None,\n",
       "                       min_samples_leaf=1, min_samples_split=2,\n",
       "                       min_weight_fraction_leaf=0.0, n_estimators=500,\n",
       "                       n_jobs=None, oob_score=False, random_state=None,\n",
       "                       verbose=0, warm_start=False)"
      ]
     },
     "execution_count": null,
     "metadata": {},
     "output_type": "execute_result"
    }
   ],
   "source": [
    "# Build random forest model\n",
    "\n",
    "from sklearn.ensemble import RandomForestClassifier\n",
    "\n",
    "rf = RandomForestClassifier(n_estimators=500)\n",
    "\n",
    "rf.fit(X_train, y_train)"
   ]
  },
  {
   "cell_type": "markdown",
   "metadata": {},
   "source": [
    "### **Apply the model to make predictions**"
   ]
  },
  {
   "cell_type": "code",
   "execution_count": null,
   "metadata": {},
   "outputs": [],
   "source": [
    "y_train_pred = rf.predict(X_train)\n",
    "y_test_pred = rf.predict(X_test)"
   ]
  },
  {
   "cell_type": "markdown",
   "metadata": {},
   "source": [
    "### **Model performance**"
   ]
  },
  {
   "cell_type": "code",
   "execution_count": null,
   "metadata": {},
   "outputs": [
    {
     "data": {
      "text/plain": [
       "0       positive\n",
       "1       positive\n",
       "2       positive\n",
       "3       positive\n",
       "4       positive\n",
       "          ...   \n",
       "1417    negative\n",
       "1418    negative\n",
       "1419    negative\n",
       "1420    negative\n",
       "1421    negative\n",
       "Name: class, Length: 2759, dtype: object"
      ]
     },
     "execution_count": null,
     "metadata": {},
     "output_type": "execute_result"
    }
   ],
   "source": [
    "feature['class']"
   ]
  },
  {
   "cell_type": "code",
   "execution_count": null,
   "metadata": {},
   "outputs": [
    {
     "data": {
      "text/plain": [
       "0.7028985507246377"
      ]
     },
     "execution_count": null,
     "metadata": {},
     "output_type": "execute_result"
    }
   ],
   "source": [
    "# Simplest and quickest way to obtain the model performance (Accuracy)\n",
    "rf.score(X_test,y_test)"
   ]
  },
  {
   "cell_type": "code",
   "execution_count": null,
   "metadata": {},
   "outputs": [
    {
     "data": {
      "text/plain": [
       "0.7028985507246377"
      ]
     },
     "execution_count": null,
     "metadata": {},
     "output_type": "execute_result"
    }
   ],
   "source": [
    "# Accuracy\n",
    "from sklearn.metrics import accuracy_score\n",
    "\n",
    "accuracy_score(y_test, y_test_pred)"
   ]
  },
  {
   "cell_type": "code",
   "execution_count": null,
   "metadata": {},
   "outputs": [
    {
     "data": {
      "text/plain": [
       "0.40548851317062823"
      ]
     },
     "execution_count": null,
     "metadata": {},
     "output_type": "execute_result"
    }
   ],
   "source": [
    "# Matthew Correlation Coefficient\n",
    "from sklearn.metrics import matthews_corrcoef\n",
    "\n",
    "matthews_corrcoef(y_test, y_test_pred)"
   ]
  },
  {
   "cell_type": "code",
   "execution_count": null,
   "metadata": {},
   "outputs": [
    {
     "data": {
      "text/plain": [
       "array([[201,  84],\n",
       "       [ 80, 187]])"
      ]
     },
     "execution_count": null,
     "metadata": {},
     "output_type": "execute_result"
    }
   ],
   "source": [
    "# Confusion matrix\n",
    "from sklearn.metrics import confusion_matrix\n",
    "\n",
    "confusion_matrix(y_test, y_test_pred)"
   ]
  },
  {
   "cell_type": "code",
   "execution_count": null,
   "metadata": {},
   "outputs": [],
   "source": [
    "# Classification report\n",
    "from sklearn.metrics import classification_report\n",
    "\n",
    "model_report = classification_report(y_train, y_train_pred, target_names=['positive','negative'])\n",
    "\n",
    "f = open('model_report.txt','w')\n",
    "f.writelines(model_report) \n",
    "f.close()"
   ]
  },
  {
   "cell_type": "code",
   "execution_count": null,
   "metadata": {},
   "outputs": [
    {
     "data": {
      "image/png": "[encoded data removed]",
      "text/plain": [
       "<Figure size 432x288 with 1 Axes>"
      ]
     },
     "metadata": {},
     "output_type": "display_data"
    }
   ],
   "source": [
    "# ROC curve\n",
    "import matplotlib.pyplot as plt\n",
    "from sklearn.metrics import plot_roc_curve\n",
    "\n",
    "plot_roc_curve(rf, X_test, y_test)  \n",
    "plt.show()"
   ]
  },
  {
   "cell_type": "code",
   "execution_count": null,
   "metadata": {},
   "outputs": [
    {
     "data": {
      "image/png": "[encoded data removed]",
      "text/plain": [
       "<Figure size 432x288 with 1 Axes>"
      ]
     },
     "metadata": {},
     "output_type": "display_data"
    }
   ],
   "source": [
    "plot_roc_curve(rf, X_train, y_train)  \n",
    "plt.show()"
   ]
  },
  {
   "cell_type": "markdown",
   "metadata": {},
   "source": [
    "### **Feature importance**"
   ]
  },
  {
   "cell_type": "code",
   "execution_count": null,
   "metadata": {},
   "outputs": [],
   "source": [
    "# Display Dataframe of the dataset after feature selection (variance threshold)\n",
    "X2"
   ]
  },
  {
   "cell_type": "code",
   "execution_count": null,
   "metadata": {},
   "outputs": [],
   "source": [
    "# Retrieve feature importance from the RF model\n",
    "importance = pd.Series(rf.feature_importances_, name = 'Gini')\n",
    "\n",
    "# Retrieve feature names\n",
    "feature_names = pd.Series(X2.columns, name = 'Feature')"
   ]
  },
  {
   "cell_type": "code",
   "execution_count": null,
   "metadata": {},
   "outputs": [
    {
     "data": {
      "text/html": [
       "<div>\n",
       "<style scoped>\n",
       "    .dataframe tbody tr th:only-of-type {\n",
       "        vertical-align: middle;\n",
       "    }\n",
       "\n",
       "    .dataframe tbody tr th {\n",
       "        vertical-align: top;\n",
       "    }\n",
       "\n",
       "    .dataframe thead th {\n",
       "        text-align: right;\n",
       "    }\n",
       "</style>\n",
       "<table border=\"1\" class=\"dataframe\">\n",
       "  <thead>\n",
       "    <tr style=\"text-align: right;\">\n",
       "      <th></th>\n",
       "      <th>Feature</th>\n",
       "      <th>Gini</th>\n",
       "    </tr>\n",
       "  </thead>\n",
       "  <tbody>\n",
       "    <tr>\n",
       "      <th>0</th>\n",
       "      <td>AAC_A</td>\n",
       "      <td>0.05</td>\n",
       "    </tr>\n",
       "    <tr>\n",
       "      <th>1</th>\n",
       "      <td>AAC_C</td>\n",
       "      <td>0.04</td>\n",
       "    </tr>\n",
       "    <tr>\n",
       "      <th>2</th>\n",
       "      <td>AAC_D</td>\n",
       "      <td>0.09</td>\n",
       "    </tr>\n",
       "    <tr>\n",
       "      <th>3</th>\n",
       "      <td>AAC_E</td>\n",
       "      <td>0.08</td>\n",
       "    </tr>\n",
       "    <tr>\n",
       "      <th>4</th>\n",
       "      <td>AAC_F</td>\n",
       "      <td>0.04</td>\n",
       "    </tr>\n",
       "    <tr>\n",
       "      <th>5</th>\n",
       "      <td>AAC_G</td>\n",
       "      <td>0.06</td>\n",
       "    </tr>\n",
       "    <tr>\n",
       "      <th>6</th>\n",
       "      <td>AAC_H</td>\n",
       "      <td>0.02</td>\n",
       "    </tr>\n",
       "    <tr>\n",
       "      <th>7</th>\n",
       "      <td>AAC_I</td>\n",
       "      <td>0.06</td>\n",
       "    </tr>\n",
       "    <tr>\n",
       "      <th>8</th>\n",
       "      <td>AAC_K</td>\n",
       "      <td>0.09</td>\n",
       "    </tr>\n",
       "    <tr>\n",
       "      <th>9</th>\n",
       "      <td>AAC_L</td>\n",
       "      <td>0.07</td>\n",
       "    </tr>\n",
       "    <tr>\n",
       "      <th>10</th>\n",
       "      <td>AAC_M</td>\n",
       "      <td>0.04</td>\n",
       "    </tr>\n",
       "    <tr>\n",
       "      <th>11</th>\n",
       "      <td>AAC_N</td>\n",
       "      <td>0.04</td>\n",
       "    </tr>\n",
       "    <tr>\n",
       "      <th>12</th>\n",
       "      <td>AAC_P</td>\n",
       "      <td>0.04</td>\n",
       "    </tr>\n",
       "    <tr>\n",
       "      <th>13</th>\n",
       "      <td>AAC_Q</td>\n",
       "      <td>0.05</td>\n",
       "    </tr>\n",
       "    <tr>\n",
       "      <th>14</th>\n",
       "      <td>AAC_R</td>\n",
       "      <td>0.05</td>\n",
       "    </tr>\n",
       "    <tr>\n",
       "      <th>15</th>\n",
       "      <td>AAC_S</td>\n",
       "      <td>0.05</td>\n",
       "    </tr>\n",
       "    <tr>\n",
       "      <th>16</th>\n",
       "      <td>AAC_T</td>\n",
       "      <td>0.04</td>\n",
       "    </tr>\n",
       "    <tr>\n",
       "      <th>17</th>\n",
       "      <td>AAC_V</td>\n",
       "      <td>0.04</td>\n",
       "    </tr>\n",
       "    <tr>\n",
       "      <th>18</th>\n",
       "      <td>AAC_W</td>\n",
       "      <td>0.02</td>\n",
       "    </tr>\n",
       "    <tr>\n",
       "      <th>19</th>\n",
       "      <td>AAC_Y</td>\n",
       "      <td>0.03</td>\n",
       "    </tr>\n",
       "  </tbody>\n",
       "</table>\n",
       "</div>"
      ],
      "text/plain": [
       "   Feature  Gini\n",
       "0    AAC_A  0.05\n",
       "1    AAC_C  0.04\n",
       "2    AAC_D  0.09\n",
       "3    AAC_E  0.08\n",
       "4    AAC_F  0.04\n",
       "5    AAC_G  0.06\n",
       "6    AAC_H  0.02\n",
       "7    AAC_I  0.06\n",
       "8    AAC_K  0.09\n",
       "9    AAC_L  0.07\n",
       "10   AAC_M  0.04\n",
       "11   AAC_N  0.04\n",
       "12   AAC_P  0.04\n",
       "13   AAC_Q  0.05\n",
       "14   AAC_R  0.05\n",
       "15   AAC_S  0.05\n",
       "16   AAC_T  0.04\n",
       "17   AAC_V  0.04\n",
       "18   AAC_W  0.02\n",
       "19   AAC_Y  0.03"
      ]
     },
     "execution_count": null,
     "metadata": {},
     "output_type": "execute_result"
    }
   ],
   "source": [
    "# Combine feature names and Gini values into a Dataframe\n",
    "df = pd.concat([feature_names, importance], axis=1, names=['Feature', 'Gini'])\n",
    "df"
   ]
  },
  {
   "cell_type": "code",
   "execution_count": null,
   "metadata": {},
   "outputs": [
    {
     "data": {
      "text/plain": [
       "Text(0.5, 0, 'Feature Importance')"
      ]
     },
     "execution_count": null,
     "metadata": {},
     "output_type": "execute_result"
    },
    {
     "data": {
      "image/png": "[encoded data removed]",
      "text/plain": [
       "<Figure size 360x720 with 1 Axes>"
      ]
     },
     "metadata": {},
     "output_type": "display_data"
    }
   ],
   "source": [
    "# Plot of feature importance\n",
    "import matplotlib.pyplot as plt\n",
    "import seaborn as sns\n",
    "\n",
    "df_sorted = df.sort_values('Gini', ascending=False)[:20] # Sort by Gini in descending order; Showing only the top 20 results\n",
    "\n",
    "plt.figure(figsize=(5, 10))\n",
    "sns.set_theme(style=\"whitegrid\")\n",
    "ax = sns.barplot(x = 'Gini', y = 'Feature', data = df_sorted)\n",
    "plt.xlabel(\"Feature Importance\")"
   ]
  },
  {
   "cell_type": "markdown",
   "metadata": {},
   "source": [
    "---"
   ]
  }
 ],
 "metadata": {
  "kernelspec": {
   "display_name": "Python 3",
   "name": "python3"
  }
 },
 "nbformat": 4,
 "nbformat_minor": 0
}
